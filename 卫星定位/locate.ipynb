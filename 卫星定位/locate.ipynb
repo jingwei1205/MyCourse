{
 "cells": [
  {
   "cell_type": "markdown",
   "metadata": {},
   "source": [
    "### 1.KNN无线定位方法"
   ]
  },
  {
   "cell_type": "markdown",
   "metadata": {},
   "source": [
    "数据集来自<a>https://github.com/jiangqideng/codeInBlogs/blob/master/main_loc_test.ipynb  坐标单位为cm"
   ]
  },
  {
   "cell_type": "code",
   "execution_count": 1,
   "metadata": {},
   "outputs": [],
   "source": [
    "# 读取mat数据集\n",
    "import numpy as np\n",
    "import scipy.io as scio\n",
    "offline_data = scio.loadmat('offline_data_random.mat')\n",
    "online_data = scio.loadmat('online_data.mat')\n",
    "location_ori, finger_ori = offline_data['offline_location'], offline_data['offline_rss']\n",
    "location_val, finger_val = online_data['trace'][0:100, :], online_data['rss'][0:100, :]\n",
    "del offline_data\n",
    "del online_data"
   ]
  },
  {
   "cell_type": "code",
   "execution_count": 2,
   "metadata": {},
   "outputs": [],
   "source": [
    "class knn_location:\n",
    "    def __init__(self,finger_ori,location_ori,finger_val,location_val):\n",
    "        self.finger_ori=finger_ori\n",
    "        self.location_ori=location_ori\n",
    "        self.finger_val=finger_val\n",
    "        self.location_val=location_val\n",
    "\n",
    "    def compute(self):\n",
    "        d_all=[]\n",
    "        for j in range(0,len(finger_val)):\n",
    "            for i in range(0,len(self.finger_ori)):\n",
    "                # (np.sum((np.array([5,4])-np.array([1,1]))**2))**0.5 计算欧氏距离\n",
    "                d=(np.sum((finger_val[j]-finger_ori[i])**2))**0.5\n",
    "                d_all.append(d)\n",
    "        return d_all"
   ]
  },
  {
   "cell_type": "code",
   "execution_count": 3,
   "metadata": {},
   "outputs": [],
   "source": [
    "# 平均定位误差\n",
    "def accuracy(pre, location_val):\n",
    "    return np.mean(np.sqrt(np.sum((pre - location_val)**2, 1)))\n",
    "\n",
    "# 冒泡k次找出k个最接近的坐标\n",
    "def bubble(d_all,label,k): \n",
    "  length = len(d_all) \n",
    "  for i in range(k): \n",
    "    for j in range(i+1,length): \n",
    "      if d_all[i] > d_all[j]: \n",
    "        d_all[j],d_all[i] = d_all[i],d_all[j]\n",
    "        label[j],label[i]= label[i],label[j]\n",
    "  return d_all[0:k],label[0:k]"
   ]
  },
  {
   "cell_type": "code",
   "execution_count": 4,
   "metadata": {},
   "outputs": [],
   "source": [
    "knn_regressor=knn_location(finger_ori,location_ori,finger_val,location_val)\n",
    "d_all=knn_regressor.compute()"
   ]
  },
  {
   "cell_type": "code",
   "execution_count": 5,
   "metadata": {},
   "outputs": [],
   "source": [
    "# 把所有的欧式距离转换为np数组\n",
    "d_all=np.array(d_all)\n",
    "# 重组为每一行表示一个待测点与指纹集的所有距离\n",
    "d_all=d_all.reshape(-1,len(finger_ori))"
   ]
  },
  {
   "cell_type": "code",
   "execution_count": 6,
   "metadata": {},
   "outputs": [],
   "source": [
    "k=40\n",
    "d_sort_all=[]\n",
    "label_sort_all=[]\n",
    "\n",
    "for val in range(0,len(finger_val)):\n",
    "    label=np.array(range(0,len(finger_ori)))\n",
    "    d_sort,label_sort=bubble(d_all[val],label,k)\n",
    "    d_sort_all.append(d_sort)\n",
    "    label_sort_all.append(label_sort)"
   ]
  },
  {
   "cell_type": "code",
   "execution_count": 7,
   "metadata": {},
   "outputs": [],
   "source": [
    "pre=[]\n",
    "for d in range(0,len(d_sort_all)):\n",
    "    k_location=location_ori[label_sort_all[d]]\n",
    "    pre.append(np.sum(k_location.T,axis=1)/k)"
   ]
  },
  {
   "cell_type": "code",
   "execution_count": 8,
   "metadata": {},
   "outputs": [
    {
     "name": "stdout",
     "output_type": "stream",
     "text": [
      "平均定位误差 2.300836741056577 m\n"
     ]
    }
   ],
   "source": [
    "pre=np.array(pre)\n",
    "# 计算平均定位误差\n",
    "errors=accuracy(pre,location_val)\n",
    "print(\"平均定位误差\",errors/100,\"m\")"
   ]
  }
 ],
 "metadata": {
  "interpreter": {
   "hash": "83db23687cebf513c38fab9ef8e09318180486da0bc47efb26114eb8239e2c9e"
  },
  "kernelspec": {
   "display_name": "Python 3.8.8 64-bit ('base': conda)",
   "language": "python",
   "name": "python3"
  },
  "language_info": {
   "codemirror_mode": {
    "name": "ipython",
    "version": 3
   },
   "file_extension": ".py",
   "mimetype": "text/x-python",
   "name": "python",
   "nbconvert_exporter": "python",
   "pygments_lexer": "ipython3",
   "version": "3.8.8"
  },
  "orig_nbformat": 4
 },
 "nbformat": 4,
 "nbformat_minor": 2
}
