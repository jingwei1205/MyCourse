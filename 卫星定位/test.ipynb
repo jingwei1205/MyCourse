{
 "cells": [
  {
   "cell_type": "code",
   "execution_count": 33,
   "metadata": {},
   "outputs": [
    {
     "data": {
      "text/html": [
       "<div>\n",
       "<style scoped>\n",
       "    .dataframe tbody tr th:only-of-type {\n",
       "        vertical-align: middle;\n",
       "    }\n",
       "\n",
       "    .dataframe tbody tr th {\n",
       "        vertical-align: top;\n",
       "    }\n",
       "\n",
       "    .dataframe thead th {\n",
       "        text-align: right;\n",
       "    }\n",
       "</style>\n",
       "<table border=\"1\" class=\"dataframe\">\n",
       "  <thead>\n",
       "    <tr style=\"text-align: right;\">\n",
       "      <th></th>\n",
       "      <th>LONGITUDE</th>\n",
       "      <th>LATITUDE</th>\n",
       "    </tr>\n",
       "  </thead>\n",
       "  <tbody>\n",
       "    <tr>\n",
       "      <th>0</th>\n",
       "      <td>-7632.143600</td>\n",
       "      <td>4864982.217</td>\n",
       "    </tr>\n",
       "    <tr>\n",
       "      <th>1</th>\n",
       "      <td>-7474.553800</td>\n",
       "      <td>4864866.856</td>\n",
       "    </tr>\n",
       "    <tr>\n",
       "      <th>2</th>\n",
       "      <td>-7469.871500</td>\n",
       "      <td>4864864.365</td>\n",
       "    </tr>\n",
       "    <tr>\n",
       "      <th>3</th>\n",
       "      <td>-7466.445299</td>\n",
       "      <td>4864859.364</td>\n",
       "    </tr>\n",
       "    <tr>\n",
       "      <th>4</th>\n",
       "      <td>-7454.239100</td>\n",
       "      <td>4864829.266</td>\n",
       "    </tr>\n",
       "    <tr>\n",
       "      <th>...</th>\n",
       "      <td>...</td>\n",
       "      <td>...</td>\n",
       "    </tr>\n",
       "    <tr>\n",
       "      <th>4364</th>\n",
       "      <td>-7311.829500</td>\n",
       "      <td>4864805.727</td>\n",
       "    </tr>\n",
       "    <tr>\n",
       "      <th>4365</th>\n",
       "      <td>-7318.694800</td>\n",
       "      <td>4864795.302</td>\n",
       "    </tr>\n",
       "    <tr>\n",
       "      <th>4366</th>\n",
       "      <td>-7314.611700</td>\n",
       "      <td>4864800.712</td>\n",
       "    </tr>\n",
       "    <tr>\n",
       "      <th>4367</th>\n",
       "      <td>-7320.078900</td>\n",
       "      <td>4864794.328</td>\n",
       "    </tr>\n",
       "    <tr>\n",
       "      <th>4368</th>\n",
       "      <td>-7320.078900</td>\n",
       "      <td>4864794.328</td>\n",
       "    </tr>\n",
       "  </tbody>\n",
       "</table>\n",
       "<p>4369 rows × 2 columns</p>\n",
       "</div>"
      ],
      "text/plain": [
       "        LONGITUDE     LATITUDE\n",
       "0    -7632.143600  4864982.217\n",
       "1    -7474.553800  4864866.856\n",
       "2    -7469.871500  4864864.365\n",
       "3    -7466.445299  4864859.364\n",
       "4    -7454.239100  4864829.266\n",
       "...           ...          ...\n",
       "4364 -7311.829500  4864805.727\n",
       "4365 -7318.694800  4864795.302\n",
       "4366 -7314.611700  4864800.712\n",
       "4367 -7320.078900  4864794.328\n",
       "4368 -7320.078900  4864794.328\n",
       "\n",
       "[4369 rows x 2 columns]"
      ]
     },
     "execution_count": 33,
     "metadata": {},
     "output_type": "execute_result"
    }
   ],
   "source": [
    "import pandas as pd\n",
    "df=pd.read_csv(\"floor0.csv\")\n",
    "fingerprint=df.iloc[:,:-9]\n",
    "finger_location=df.iloc[:,-9:-7]\n",
    "fingerprint\n",
    "finger_location"
   ]
  },
  {
   "cell_type": "code",
   "execution_count": 36,
   "metadata": {},
   "outputs": [],
   "source": [
    "import numpy as np\n",
    "fingerprint=np.array(fingerprint)\n",
    "finger_location=np.array(finger_location)\n",
    "test_location=finger_location[-1]"
   ]
  },
  {
   "cell_type": "code",
   "execution_count": 37,
   "metadata": {},
   "outputs": [
    {
     "data": {
      "text/plain": [
       "array([  -7320.0789, 4864794.328 ])"
      ]
     },
     "execution_count": 37,
     "metadata": {},
     "output_type": "execute_result"
    }
   ],
   "source": [
    "finger_location[-1]"
   ]
  },
  {
   "cell_type": "code",
   "execution_count": 38,
   "metadata": {},
   "outputs": [],
   "source": [
    "class knn_location:\n",
    "    def __init__(self,fingerprint,finger_location,test_location,test_finger):\n",
    "        self.fingerprint=fingerprint\n",
    "        self.finger_location=finger_location\n",
    "        self.test_location=test_location\n",
    "        self.test_finger=test_finger\n",
    "\n",
    "    def compute(self):\n",
    "        d_all=[]\n",
    "        d_min=9999\n",
    "        min_i=-1\n",
    "        # 因为把最后一行提取出来作为待测位置\n",
    "        for i in range(0,len(self.fingerprint)-1):\n",
    "            # (np.sum((np.array([5,4])-np.array([1,1]))**2))**0.5 计算欧氏距离\n",
    "            d=(np.sum((test_location-finger_location[i])**2))**0.5\n",
    "            d_all.append(d)\n",
    "            if d<d_min:\n",
    "                d_min=d\n",
    "                min_i=i\n",
    "        print(\"d_min:\",d_min,\"num:\",i+1,\"\\nlocation:\",finger_location[min_i],\"\\nreal_location:\",test_location)\n",
    "        return d_all,d_min"
   ]
  },
  {
   "cell_type": "code",
   "execution_count": 24,
   "metadata": {},
   "outputs": [
    {
     "name": "stdout",
     "output_type": "stream",
     "text": [
      "d_min: 0.0 num: 4368 \n",
      "location: [  -7320.0789 4864794.328 ] \n",
      "real_location: [  -7320.0789 4864794.328 ]\n"
     ]
    }
   ],
   "source": [
    "knn=knn_location(fingerprint,finger_location,test_location,fingerprint[-1])\n",
    "d_all,d_min=knn.compute()"
   ]
  },
  {
   "cell_type": "code",
   "execution_count": 25,
   "metadata": {},
   "outputs": [],
   "source": [
    "label=np.array(range(0,len(knn.fingerprint)-1))"
   ]
  },
  {
   "cell_type": "code",
   "execution_count": 26,
   "metadata": {},
   "outputs": [],
   "source": [
    "def bubble(d_all,label,k): \n",
    "#  冒泡法 \n",
    "  length = len(d_all) \n",
    "  for i in range(k): \n",
    "    for j in range(i+1,length): \n",
    "      if d_all[i] > d_all[j]: \n",
    "        d_all[j],d_all[i] = d_all[i],d_all[j]\n",
    "        label[j],label[i]= label[i],label[j]\n",
    "  return d_all[0:k],label[0:k]"
   ]
  },
  {
   "cell_type": "code",
   "execution_count": 31,
   "metadata": {},
   "outputs": [
    {
     "name": "stdout",
     "output_type": "stream",
     "text": [
      "[0.0, 0.0, 0.0, 0.0, 0.0, 0.0, 0.0, 0.0, 0.0, 0.0, 0.0, 0.0, 0.0, 0.0, 0.0, 0.0, 0.0, 0.0, 0.0, 0.0, 0.0, 0.0, 0.0, 0.0, 0.0, 0.0, 0.0, 0.0, 0.0, 0.0, 0.0, 0.0, 0.0, 0.0, 0.0, 0.0, 0.0, 0.0, 0.0, 0.0, 0.0] \n",
      " [ 570  596  632  662  695  724  754  783  813  841  873  934  980 1034\n",
      " 1087 1146 1203 1260 1319 1376 1469 1524 1576 1633 1690 1745 1798 1855\n",
      " 1908 1963 3892 3941 4048 4101 4154 4155 4208 4261 4314 4315 4367]\n"
     ]
    }
   ],
   "source": [
    "k=41\n",
    "d_sort,label_sort=bubble(d_all,label,k)\n",
    "print(d_sort,\"\\n\",label_sort)"
   ]
  },
  {
   "cell_type": "code",
   "execution_count": 8,
   "metadata": {},
   "outputs": [
    {
     "data": {
      "text/plain": [
       "array([[  -7320.0789, 4864794.328 ],\n",
       "       [  -7320.0789, 4864794.328 ],\n",
       "       [  -7320.0789, 4864794.328 ],\n",
       "       [  -7320.0789, 4864794.328 ],\n",
       "       [  -7320.0789, 4864794.328 ],\n",
       "       [  -7320.0789, 4864794.328 ],\n",
       "       [  -7320.0789, 4864794.328 ],\n",
       "       [  -7320.0789, 4864794.328 ],\n",
       "       [  -7320.0789, 4864794.328 ],\n",
       "       [  -7320.0789, 4864794.328 ]])"
      ]
     },
     "execution_count": 8,
     "metadata": {},
     "output_type": "execute_result"
    }
   ],
   "source": [
    "k_location=finger_location[label_sort]\n",
    "k_location"
   ]
  },
  {
   "cell_type": "code",
   "execution_count": 9,
   "metadata": {},
   "outputs": [
    {
     "data": {
      "text/plain": [
       "array([  -7320.0789, 4864794.328 ])"
      ]
     },
     "execution_count": 9,
     "metadata": {},
     "output_type": "execute_result"
    }
   ],
   "source": [
    "np.sum(k_location.T,axis=1)/10"
   ]
  },
  {
   "cell_type": "code",
   "execution_count": null,
   "metadata": {},
   "outputs": [],
   "source": []
  }
 ],
 "metadata": {
  "interpreter": {
   "hash": "83db23687cebf513c38fab9ef8e09318180486da0bc47efb26114eb8239e2c9e"
  },
  "kernelspec": {
   "display_name": "Python 3.8.8 64-bit ('base': conda)",
   "language": "python",
   "name": "python3"
  },
  "language_info": {
   "codemirror_mode": {
    "name": "ipython",
    "version": 3
   },
   "file_extension": ".py",
   "mimetype": "text/x-python",
   "name": "python",
   "nbconvert_exporter": "python",
   "pygments_lexer": "ipython3",
   "version": "3.8.8"
  },
  "orig_nbformat": 4
 },
 "nbformat": 4,
 "nbformat_minor": 2
}
